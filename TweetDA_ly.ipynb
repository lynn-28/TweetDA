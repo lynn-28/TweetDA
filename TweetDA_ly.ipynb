{
 "cells": [
  {
   "cell_type": "markdown",
   "metadata": {},
   "source": [
    "# ‘WeRateDogs’推特数据分析\n",
    "### 收集-评估-清洗-可视化分析\n",
    "## 1   收集"
   ]
  },
  {
   "cell_type": "code",
   "execution_count": 1,
   "metadata": {},
   "outputs": [],
   "source": [
    "# 导入需要的库\n",
    "import numpy as np\n",
    "import pandas as pd\n",
    "import json\n",
    "import matplotlib.pyplot as plt\n",
    "import seaborn as sns"
   ]
  },
  {
   "cell_type": "markdown",
   "metadata": {},
   "source": [
    "1. 收集手头文件 `twitter_archive_enhanced.csv`，其中包含了一些主要的推特信息，是本次清洗的主要数据，其中的评分、地位和名字等数据是从 `text` 原文中提取的，但是提取的并不好，评分并不都是正确的，狗的名字和地位也有不正确的 。如果你想用评分、地位和名字进行分析和可视化，需要评估和清洗这些列。完成这些列的评估和清洗，你可以学到更加实用的技能。\n",
    "2. `image-predictions.tsv`，其中包含了推特图像预测信息，根据推特中的图片预测出狗狗种类；\n",
    "3. 额外推特信息 `tweet_json.txt`，至少需要提取转发数（`retweet_count`）和喜欢数（`favorite_count`）这两列。"
   ]
  },
  {
   "cell_type": "code",
   "execution_count": 2,
   "metadata": {
    "scrolled": true
   },
   "outputs": [],
   "source": [
    "# 收集文件 1 保存为 dataframe\n",
    "df1_twitter=pd.read_csv('p2_ly/data/twitter-archive-enhanced.csv')\n",
    "# 收集文件 2 保存为 dataframe\n",
    "df2_pred=pd.read_csv('p2_ly/data/image-predictions.tsv',sep='\\t')\n",
    "# 收集文件 3 保存为 dataframe\n",
    "with open('p2_ly/data/tweet_json.txt','r') as file3:\n",
    "    tweet_data=json.load(file3)\n",
    "df3_added=pd.DataFrame(tweet_data)"
   ]
  },
  {
   "cell_type": "markdown",
   "metadata": {},
   "source": [
    "## 2   评估\n",
    "### 目测评估"
   ]
  },
  {
   "cell_type": "code",
   "execution_count": 3,
   "metadata": {},
   "outputs": [],
   "source": [
    "# 目测评估三个数据集"
   ]
  },
  {
   "cell_type": "code",
   "execution_count": 4,
   "metadata": {},
   "outputs": [
    {
     "data": {
      "text/html": [
       "<div>\n",
       "<style scoped>\n",
       "    .dataframe tbody tr th:only-of-type {\n",
       "        vertical-align: middle;\n",
       "    }\n",
       "\n",
       "    .dataframe tbody tr th {\n",
       "        vertical-align: top;\n",
       "    }\n",
       "\n",
       "    .dataframe thead th {\n",
       "        text-align: right;\n",
       "    }\n",
       "</style>\n",
       "<table border=\"1\" class=\"dataframe\">\n",
       "  <thead>\n",
       "    <tr style=\"text-align: right;\">\n",
       "      <th></th>\n",
       "      <th>tweet_id</th>\n",
       "      <th>in_reply_to_status_id</th>\n",
       "      <th>in_reply_to_user_id</th>\n",
       "      <th>timestamp</th>\n",
       "      <th>source</th>\n",
       "      <th>text</th>\n",
       "      <th>retweeted_status_id</th>\n",
       "      <th>retweeted_status_user_id</th>\n",
       "      <th>retweeted_status_timestamp</th>\n",
       "      <th>expanded_urls</th>\n",
       "      <th>rating_numerator</th>\n",
       "      <th>rating_denominator</th>\n",
       "      <th>name</th>\n",
       "      <th>doggo</th>\n",
       "      <th>floofer</th>\n",
       "      <th>pupper</th>\n",
       "      <th>puppo</th>\n",
       "    </tr>\n",
       "  </thead>\n",
       "  <tbody>\n",
       "    <tr>\n",
       "      <th>0</th>\n",
       "      <td>892420643555336193</td>\n",
       "      <td>NaN</td>\n",
       "      <td>NaN</td>\n",
       "      <td>2017-08-01 16:23:56 +0000</td>\n",
       "      <td>&lt;a href=\"http://twitter.com/download/iphone\" r...</td>\n",
       "      <td>This is Phineas. He's a mystical boy. Only eve...</td>\n",
       "      <td>NaN</td>\n",
       "      <td>NaN</td>\n",
       "      <td>NaN</td>\n",
       "      <td>https://twitter.com/dog_rates/status/892420643...</td>\n",
       "      <td>13</td>\n",
       "      <td>10</td>\n",
       "      <td>Phineas</td>\n",
       "      <td>None</td>\n",
       "      <td>None</td>\n",
       "      <td>None</td>\n",
       "      <td>None</td>\n",
       "    </tr>\n",
       "    <tr>\n",
       "      <th>1</th>\n",
       "      <td>892177421306343426</td>\n",
       "      <td>NaN</td>\n",
       "      <td>NaN</td>\n",
       "      <td>2017-08-01 00:17:27 +0000</td>\n",
       "      <td>&lt;a href=\"http://twitter.com/download/iphone\" r...</td>\n",
       "      <td>This is Tilly. She's just checking pup on you....</td>\n",
       "      <td>NaN</td>\n",
       "      <td>NaN</td>\n",
       "      <td>NaN</td>\n",
       "      <td>https://twitter.com/dog_rates/status/892177421...</td>\n",
       "      <td>13</td>\n",
       "      <td>10</td>\n",
       "      <td>Tilly</td>\n",
       "      <td>None</td>\n",
       "      <td>None</td>\n",
       "      <td>None</td>\n",
       "      <td>None</td>\n",
       "    </tr>\n",
       "    <tr>\n",
       "      <th>2</th>\n",
       "      <td>891815181378084864</td>\n",
       "      <td>NaN</td>\n",
       "      <td>NaN</td>\n",
       "      <td>2017-07-31 00:18:03 +0000</td>\n",
       "      <td>&lt;a href=\"http://twitter.com/download/iphone\" r...</td>\n",
       "      <td>This is Archie. He is a rare Norwegian Pouncin...</td>\n",
       "      <td>NaN</td>\n",
       "      <td>NaN</td>\n",
       "      <td>NaN</td>\n",
       "      <td>https://twitter.com/dog_rates/status/891815181...</td>\n",
       "      <td>12</td>\n",
       "      <td>10</td>\n",
       "      <td>Archie</td>\n",
       "      <td>None</td>\n",
       "      <td>None</td>\n",
       "      <td>None</td>\n",
       "      <td>None</td>\n",
       "    </tr>\n",
       "  </tbody>\n",
       "</table>\n",
       "</div>"
      ],
      "text/plain": [
       "             tweet_id  in_reply_to_status_id  in_reply_to_user_id  \\\n",
       "0  892420643555336193                    NaN                  NaN   \n",
       "1  892177421306343426                    NaN                  NaN   \n",
       "2  891815181378084864                    NaN                  NaN   \n",
       "\n",
       "                   timestamp  \\\n",
       "0  2017-08-01 16:23:56 +0000   \n",
       "1  2017-08-01 00:17:27 +0000   \n",
       "2  2017-07-31 00:18:03 +0000   \n",
       "\n",
       "                                              source  \\\n",
       "0  <a href=\"http://twitter.com/download/iphone\" r...   \n",
       "1  <a href=\"http://twitter.com/download/iphone\" r...   \n",
       "2  <a href=\"http://twitter.com/download/iphone\" r...   \n",
       "\n",
       "                                                text  retweeted_status_id  \\\n",
       "0  This is Phineas. He's a mystical boy. Only eve...                  NaN   \n",
       "1  This is Tilly. She's just checking pup on you....                  NaN   \n",
       "2  This is Archie. He is a rare Norwegian Pouncin...                  NaN   \n",
       "\n",
       "   retweeted_status_user_id retweeted_status_timestamp  \\\n",
       "0                       NaN                        NaN   \n",
       "1                       NaN                        NaN   \n",
       "2                       NaN                        NaN   \n",
       "\n",
       "                                       expanded_urls  rating_numerator  \\\n",
       "0  https://twitter.com/dog_rates/status/892420643...                13   \n",
       "1  https://twitter.com/dog_rates/status/892177421...                13   \n",
       "2  https://twitter.com/dog_rates/status/891815181...                12   \n",
       "\n",
       "   rating_denominator     name doggo floofer pupper puppo  \n",
       "0                  10  Phineas  None    None   None  None  \n",
       "1                  10    Tilly  None    None   None  None  \n",
       "2                  10   Archie  None    None   None  None  "
      ]
     },
     "execution_count": 4,
     "metadata": {},
     "output_type": "execute_result"
    }
   ],
   "source": [
    "df1_twitter.head(3)"
   ]
  },
  {
   "cell_type": "code",
   "execution_count": 5,
   "metadata": {},
   "outputs": [
    {
     "data": {
      "text/html": [
       "<div>\n",
       "<style scoped>\n",
       "    .dataframe tbody tr th:only-of-type {\n",
       "        vertical-align: middle;\n",
       "    }\n",
       "\n",
       "    .dataframe tbody tr th {\n",
       "        vertical-align: top;\n",
       "    }\n",
       "\n",
       "    .dataframe thead th {\n",
       "        text-align: right;\n",
       "    }\n",
       "</style>\n",
       "<table border=\"1\" class=\"dataframe\">\n",
       "  <thead>\n",
       "    <tr style=\"text-align: right;\">\n",
       "      <th></th>\n",
       "      <th>tweet_id</th>\n",
       "      <th>jpg_url</th>\n",
       "      <th>img_num</th>\n",
       "      <th>p1</th>\n",
       "      <th>p1_conf</th>\n",
       "      <th>p1_dog</th>\n",
       "      <th>p2</th>\n",
       "      <th>p2_conf</th>\n",
       "      <th>p2_dog</th>\n",
       "      <th>p3</th>\n",
       "      <th>p3_conf</th>\n",
       "      <th>p3_dog</th>\n",
       "    </tr>\n",
       "  </thead>\n",
       "  <tbody>\n",
       "    <tr>\n",
       "      <th>0</th>\n",
       "      <td>666020888022790149</td>\n",
       "      <td>https://pbs.twimg.com/media/CT4udn0WwAA0aMy.jpg</td>\n",
       "      <td>1</td>\n",
       "      <td>Welsh_springer_spaniel</td>\n",
       "      <td>0.465074</td>\n",
       "      <td>True</td>\n",
       "      <td>collie</td>\n",
       "      <td>0.156665</td>\n",
       "      <td>True</td>\n",
       "      <td>Shetland_sheepdog</td>\n",
       "      <td>0.061428</td>\n",
       "      <td>True</td>\n",
       "    </tr>\n",
       "    <tr>\n",
       "      <th>1</th>\n",
       "      <td>666029285002620928</td>\n",
       "      <td>https://pbs.twimg.com/media/CT42GRgUYAA5iDo.jpg</td>\n",
       "      <td>1</td>\n",
       "      <td>redbone</td>\n",
       "      <td>0.506826</td>\n",
       "      <td>True</td>\n",
       "      <td>miniature_pinscher</td>\n",
       "      <td>0.074192</td>\n",
       "      <td>True</td>\n",
       "      <td>Rhodesian_ridgeback</td>\n",
       "      <td>0.072010</td>\n",
       "      <td>True</td>\n",
       "    </tr>\n",
       "    <tr>\n",
       "      <th>2</th>\n",
       "      <td>666033412701032449</td>\n",
       "      <td>https://pbs.twimg.com/media/CT4521TWwAEvMyu.jpg</td>\n",
       "      <td>1</td>\n",
       "      <td>German_shepherd</td>\n",
       "      <td>0.596461</td>\n",
       "      <td>True</td>\n",
       "      <td>malinois</td>\n",
       "      <td>0.138584</td>\n",
       "      <td>True</td>\n",
       "      <td>bloodhound</td>\n",
       "      <td>0.116197</td>\n",
       "      <td>True</td>\n",
       "    </tr>\n",
       "  </tbody>\n",
       "</table>\n",
       "</div>"
      ],
      "text/plain": [
       "             tweet_id                                          jpg_url  \\\n",
       "0  666020888022790149  https://pbs.twimg.com/media/CT4udn0WwAA0aMy.jpg   \n",
       "1  666029285002620928  https://pbs.twimg.com/media/CT42GRgUYAA5iDo.jpg   \n",
       "2  666033412701032449  https://pbs.twimg.com/media/CT4521TWwAEvMyu.jpg   \n",
       "\n",
       "   img_num                      p1   p1_conf  p1_dog                  p2  \\\n",
       "0        1  Welsh_springer_spaniel  0.465074    True              collie   \n",
       "1        1                 redbone  0.506826    True  miniature_pinscher   \n",
       "2        1         German_shepherd  0.596461    True            malinois   \n",
       "\n",
       "    p2_conf  p2_dog                   p3   p3_conf  p3_dog  \n",
       "0  0.156665    True    Shetland_sheepdog  0.061428    True  \n",
       "1  0.074192    True  Rhodesian_ridgeback  0.072010    True  \n",
       "2  0.138584    True           bloodhound  0.116197    True  "
      ]
     },
     "execution_count": 5,
     "metadata": {},
     "output_type": "execute_result"
    }
   ],
   "source": [
    "df2_pred.head(3)"
   ]
  },
  {
   "cell_type": "code",
   "execution_count": 6,
   "metadata": {},
   "outputs": [
    {
     "data": {
      "text/html": [
       "<div>\n",
       "<style scoped>\n",
       "    .dataframe tbody tr th:only-of-type {\n",
       "        vertical-align: middle;\n",
       "    }\n",
       "\n",
       "    .dataframe tbody tr th {\n",
       "        vertical-align: top;\n",
       "    }\n",
       "\n",
       "    .dataframe thead th {\n",
       "        text-align: right;\n",
       "    }\n",
       "</style>\n",
       "<table border=\"1\" class=\"dataframe\">\n",
       "  <thead>\n",
       "    <tr style=\"text-align: right;\">\n",
       "      <th></th>\n",
       "      <th>created_at</th>\n",
       "      <th>favorite_count</th>\n",
       "      <th>favorited</th>\n",
       "      <th>retweet_count</th>\n",
       "      <th>retweeted</th>\n",
       "      <th>tweet_id</th>\n",
       "    </tr>\n",
       "  </thead>\n",
       "  <tbody>\n",
       "    <tr>\n",
       "      <th>0</th>\n",
       "      <td>Tue Aug 01 16:23:56 +0000 2017</td>\n",
       "      <td>38074</td>\n",
       "      <td>False</td>\n",
       "      <td>8328</td>\n",
       "      <td>False</td>\n",
       "      <td>892420643555336193</td>\n",
       "    </tr>\n",
       "    <tr>\n",
       "      <th>1</th>\n",
       "      <td>Tue Aug 01 00:17:27 +0000 2017</td>\n",
       "      <td>32681</td>\n",
       "      <td>False</td>\n",
       "      <td>6151</td>\n",
       "      <td>False</td>\n",
       "      <td>892177421306343426</td>\n",
       "    </tr>\n",
       "    <tr>\n",
       "      <th>2</th>\n",
       "      <td>Mon Jul 31 00:18:03 +0000 2017</td>\n",
       "      <td>24592</td>\n",
       "      <td>False</td>\n",
       "      <td>4070</td>\n",
       "      <td>False</td>\n",
       "      <td>891815181378084864</td>\n",
       "    </tr>\n",
       "  </tbody>\n",
       "</table>\n",
       "</div>"
      ],
      "text/plain": [
       "                       created_at  favorite_count  favorited  retweet_count  \\\n",
       "0  Tue Aug 01 16:23:56 +0000 2017           38074      False           8328   \n",
       "1  Tue Aug 01 00:17:27 +0000 2017           32681      False           6151   \n",
       "2  Mon Jul 31 00:18:03 +0000 2017           24592      False           4070   \n",
       "\n",
       "   retweeted            tweet_id  \n",
       "0      False  892420643555336193  \n",
       "1      False  892177421306343426  \n",
       "2      False  891815181378084864  "
      ]
     },
     "execution_count": 6,
     "metadata": {},
     "output_type": "execute_result"
    }
   ],
   "source": [
    "df3_added.head(3)"
   ]
  },
  {
   "cell_type": "markdown",
   "metadata": {},
   "source": [
    "<div>\n",
    "<style>\n",
    "    .dataframe thead tr:only-child th {\n",
    "        text-align: right;\n",
    "    }"
   ]
  },
  {
   "cell_type": "markdown",
   "metadata": {},
   "source": [
    "### 编程评估"
   ]
  },
  {
   "cell_type": "code",
   "execution_count": 7,
   "metadata": {},
   "outputs": [
    {
     "name": "stdout",
     "output_type": "stream",
     "text": [
      "<class 'pandas.core.frame.DataFrame'>\n",
      "RangeIndex: 2356 entries, 0 to 2355\n",
      "Data columns (total 17 columns):\n",
      "tweet_id                      2356 non-null int64\n",
      "in_reply_to_status_id         78 non-null float64\n",
      "in_reply_to_user_id           78 non-null float64\n",
      "timestamp                     2356 non-null object\n",
      "source                        2356 non-null object\n",
      "text                          2356 non-null object\n",
      "retweeted_status_id           181 non-null float64\n",
      "retweeted_status_user_id      181 non-null float64\n",
      "retweeted_status_timestamp    181 non-null object\n",
      "expanded_urls                 2297 non-null object\n",
      "rating_numerator              2356 non-null int64\n",
      "rating_denominator            2356 non-null int64\n",
      "name                          2356 non-null object\n",
      "doggo                         2356 non-null object\n",
      "floofer                       2356 non-null object\n",
      "pupper                        2356 non-null object\n",
      "puppo                         2356 non-null object\n",
      "dtypes: float64(4), int64(3), object(10)\n",
      "memory usage: 313.0+ KB\n"
     ]
    }
   ],
   "source": [
    "# 使用 pandas 的各种方法评估三个数据集，比如 info、value_counts 等\n",
    "df1_twitter.info()"
   ]
  },
  {
   "cell_type": "code",
   "execution_count": 8,
   "metadata": {
    "scrolled": false
   },
   "outputs": [
    {
     "data": {
      "text/html": [
       "<div>\n",
       "<style scoped>\n",
       "    .dataframe tbody tr th:only-of-type {\n",
       "        vertical-align: middle;\n",
       "    }\n",
       "\n",
       "    .dataframe tbody tr th {\n",
       "        vertical-align: top;\n",
       "    }\n",
       "\n",
       "    .dataframe thead th {\n",
       "        text-align: right;\n",
       "    }\n",
       "</style>\n",
       "<table border=\"1\" class=\"dataframe\">\n",
       "  <thead>\n",
       "    <tr style=\"text-align: right;\">\n",
       "      <th></th>\n",
       "      <th>tweet_id</th>\n",
       "      <th>in_reply_to_status_id</th>\n",
       "      <th>in_reply_to_user_id</th>\n",
       "      <th>timestamp</th>\n",
       "      <th>source</th>\n",
       "      <th>text</th>\n",
       "      <th>retweeted_status_id</th>\n",
       "      <th>retweeted_status_user_id</th>\n",
       "      <th>retweeted_status_timestamp</th>\n",
       "      <th>expanded_urls</th>\n",
       "      <th>rating_numerator</th>\n",
       "      <th>rating_denominator</th>\n",
       "      <th>name</th>\n",
       "      <th>doggo</th>\n",
       "      <th>floofer</th>\n",
       "      <th>pupper</th>\n",
       "      <th>puppo</th>\n",
       "    </tr>\n",
       "  </thead>\n",
       "  <tbody>\n",
       "    <tr>\n",
       "      <th>1338</th>\n",
       "      <td>705066031337840642</td>\n",
       "      <td>NaN</td>\n",
       "      <td>NaN</td>\n",
       "      <td>2016-03-02 16:23:36 +0000</td>\n",
       "      <td>&lt;a href=\"http://twitter.com/download/iphone\" r...</td>\n",
       "      <td>This is Reese. He's a Chilean Sohcahtoa. Loves...</td>\n",
       "      <td>NaN</td>\n",
       "      <td>NaN</td>\n",
       "      <td>NaN</td>\n",
       "      <td>https://twitter.com/dog_rates/status/705066031...</td>\n",
       "      <td>12</td>\n",
       "      <td>10</td>\n",
       "      <td>Reese</td>\n",
       "      <td>None</td>\n",
       "      <td>None</td>\n",
       "      <td>None</td>\n",
       "      <td>None</td>\n",
       "    </tr>\n",
       "    <tr>\n",
       "      <th>1929</th>\n",
       "      <td>674042553264685056</td>\n",
       "      <td>NaN</td>\n",
       "      <td>NaN</td>\n",
       "      <td>2015-12-08 01:47:22 +0000</td>\n",
       "      <td>&lt;a href=\"http://twitter.com/download/iphone\" r...</td>\n",
       "      <td>Yea I can't handle the cuteness anymore. Curls...</td>\n",
       "      <td>NaN</td>\n",
       "      <td>NaN</td>\n",
       "      <td>NaN</td>\n",
       "      <td>https://twitter.com/dog_rates/status/674042553...</td>\n",
       "      <td>12</td>\n",
       "      <td>10</td>\n",
       "      <td>None</td>\n",
       "      <td>None</td>\n",
       "      <td>None</td>\n",
       "      <td>None</td>\n",
       "      <td>None</td>\n",
       "    </tr>\n",
       "    <tr>\n",
       "      <th>1311</th>\n",
       "      <td>707021089608753152</td>\n",
       "      <td>NaN</td>\n",
       "      <td>NaN</td>\n",
       "      <td>2016-03-08 01:52:18 +0000</td>\n",
       "      <td>&lt;a href=\"http://twitter.com/download/iphone\" r...</td>\n",
       "      <td>This is Tucker. He's a Dasani Episcopalian. Go...</td>\n",
       "      <td>NaN</td>\n",
       "      <td>NaN</td>\n",
       "      <td>NaN</td>\n",
       "      <td>https://twitter.com/dog_rates/status/707021089...</td>\n",
       "      <td>12</td>\n",
       "      <td>10</td>\n",
       "      <td>Tucker</td>\n",
       "      <td>None</td>\n",
       "      <td>None</td>\n",
       "      <td>None</td>\n",
       "      <td>None</td>\n",
       "    </tr>\n",
       "    <tr>\n",
       "      <th>1842</th>\n",
       "      <td>675870721063669760</td>\n",
       "      <td>6.757073e+17</td>\n",
       "      <td>4.196984e+09</td>\n",
       "      <td>2015-12-13 02:51:51 +0000</td>\n",
       "      <td>&lt;a href=\"http://twitter.com/download/iphone\" r...</td>\n",
       "      <td>&amp;amp; this is Yoshi. Another world record cont...</td>\n",
       "      <td>NaN</td>\n",
       "      <td>NaN</td>\n",
       "      <td>NaN</td>\n",
       "      <td>https://twitter.com/dog_rates/status/675870721...</td>\n",
       "      <td>11</td>\n",
       "      <td>10</td>\n",
       "      <td>None</td>\n",
       "      <td>None</td>\n",
       "      <td>None</td>\n",
       "      <td>None</td>\n",
       "      <td>None</td>\n",
       "    </tr>\n",
       "    <tr>\n",
       "      <th>559</th>\n",
       "      <td>803276597545603072</td>\n",
       "      <td>NaN</td>\n",
       "      <td>NaN</td>\n",
       "      <td>2016-11-28 16:37:19 +0000</td>\n",
       "      <td>&lt;a href=\"http://twitter.com/download/iphone\" r...</td>\n",
       "      <td>This is Winston. His selfie game is legendary....</td>\n",
       "      <td>NaN</td>\n",
       "      <td>NaN</td>\n",
       "      <td>NaN</td>\n",
       "      <td>https://twitter.com/dog_rates/status/803276597...</td>\n",
       "      <td>11</td>\n",
       "      <td>10</td>\n",
       "      <td>Winston</td>\n",
       "      <td>None</td>\n",
       "      <td>None</td>\n",
       "      <td>None</td>\n",
       "      <td>None</td>\n",
       "    </tr>\n",
       "  </tbody>\n",
       "</table>\n",
       "</div>"
      ],
      "text/plain": [
       "                tweet_id  in_reply_to_status_id  in_reply_to_user_id  \\\n",
       "1338  705066031337840642                    NaN                  NaN   \n",
       "1929  674042553264685056                    NaN                  NaN   \n",
       "1311  707021089608753152                    NaN                  NaN   \n",
       "1842  675870721063669760           6.757073e+17         4.196984e+09   \n",
       "559   803276597545603072                    NaN                  NaN   \n",
       "\n",
       "                      timestamp  \\\n",
       "1338  2016-03-02 16:23:36 +0000   \n",
       "1929  2015-12-08 01:47:22 +0000   \n",
       "1311  2016-03-08 01:52:18 +0000   \n",
       "1842  2015-12-13 02:51:51 +0000   \n",
       "559   2016-11-28 16:37:19 +0000   \n",
       "\n",
       "                                                 source  \\\n",
       "1338  <a href=\"http://twitter.com/download/iphone\" r...   \n",
       "1929  <a href=\"http://twitter.com/download/iphone\" r...   \n",
       "1311  <a href=\"http://twitter.com/download/iphone\" r...   \n",
       "1842  <a href=\"http://twitter.com/download/iphone\" r...   \n",
       "559   <a href=\"http://twitter.com/download/iphone\" r...   \n",
       "\n",
       "                                                   text  retweeted_status_id  \\\n",
       "1338  This is Reese. He's a Chilean Sohcahtoa. Loves...                  NaN   \n",
       "1929  Yea I can't handle the cuteness anymore. Curls...                  NaN   \n",
       "1311  This is Tucker. He's a Dasani Episcopalian. Go...                  NaN   \n",
       "1842  &amp; this is Yoshi. Another world record cont...                  NaN   \n",
       "559   This is Winston. His selfie game is legendary....                  NaN   \n",
       "\n",
       "      retweeted_status_user_id retweeted_status_timestamp  \\\n",
       "1338                       NaN                        NaN   \n",
       "1929                       NaN                        NaN   \n",
       "1311                       NaN                        NaN   \n",
       "1842                       NaN                        NaN   \n",
       "559                        NaN                        NaN   \n",
       "\n",
       "                                          expanded_urls  rating_numerator  \\\n",
       "1338  https://twitter.com/dog_rates/status/705066031...                12   \n",
       "1929  https://twitter.com/dog_rates/status/674042553...                12   \n",
       "1311  https://twitter.com/dog_rates/status/707021089...                12   \n",
       "1842  https://twitter.com/dog_rates/status/675870721...                11   \n",
       "559   https://twitter.com/dog_rates/status/803276597...                11   \n",
       "\n",
       "      rating_denominator     name doggo floofer pupper puppo  \n",
       "1338                  10    Reese  None    None   None  None  \n",
       "1929                  10     None  None    None   None  None  \n",
       "1311                  10   Tucker  None    None   None  None  \n",
       "1842                  10     None  None    None   None  None  \n",
       "559                   10  Winston  None    None   None  None  "
      ]
     },
     "execution_count": 8,
     "metadata": {},
     "output_type": "execute_result"
    }
   ],
   "source": [
    "df1_twitter.sample(5)"
   ]
  },
  {
   "cell_type": "code",
   "execution_count": 9,
   "metadata": {},
   "outputs": [
    {
     "data": {
      "text/plain": [
       "https://twitter.com/dog_rates/status/782305867769217024/photo/1,https://twitter.com/dog_rates/status/782305867769217024/photo/1,https://twitter.com/dog_rates/status/782305867769217024/photo/1                                                                    2\n",
       "https://twitter.com/dog_rates/status/673295268553605120/photo/1                                                                                                                                                                                                    2\n",
       "https://twitter.com/dog_rates/status/739238157791694849/video/1                                                                                                                                                                                                    2\n",
       "https://www.loveyourmelon.com/pages/ourstory,https://twitter.com/dog_rates/status/820314633777061888/photo/1,https://twitter.com/dog_rates/status/820314633777061888/photo/1,https://twitter.com/dog_rates/status/820314633777061888/photo/1                       2\n",
       "https://twitter.com/dog_rates/status/694669722378485760/photo/1,https://twitter.com/dog_rates/status/694669722378485760/photo/1                                                                                                                                    2\n",
       "https://twitter.com/dog_rates/status/768193404517830656/photo/1                                                                                                                                                                                                    2\n",
       "https://twitter.com/dog_rates/status/700747788515020802/photo/1                                                                                                                                                                                                    2\n",
       "https://twitter.com/dog_rates/status/786233965241827333/photo/1                                                                                                                                                                                                    2\n",
       "https://twitter.com/dog_rates/status/775733305207554048/photo/1                                                                                                                                                                                                    2\n",
       "https://twitter.com/dog_rates/status/739979191639244800/photo/1                                                                                                                                                                                                    2\n",
       "https://twitter.com/dog_rates/status/676936541936185344/photo/1                                                                                                                                                                                                    2\n",
       "https://www.gofundme.com/help-lorenzo-beat-cancer,https://twitter.com/dog_rates/status/860563773140209665/photo/1,https://twitter.com/dog_rates/status/860563773140209665/photo/1                                                                                  2\n",
       "https://twitter.com/dog_rates/status/786963064373534720/photo/1                                                                                                                                                                                                    2\n",
       "https://twitter.com/dog_rates/status/681694085539872773/photo/1                                                                                                                                                                                                    2\n",
       "https://twitter.com/dog_rates/status/681523177663676416/photo/1                                                                                                                                                                                                    2\n",
       "https://www.gofundme.com/3ti3nps,https://twitter.com/dog_rates/status/868552278524837888/photo/1,https://twitter.com/dog_rates/status/868552278524837888/photo/1                                                                                                   2\n",
       "https://twitter.com/dog_rates/status/761672994376806400/video/1                                                                                                                                                                                                    2\n",
       "https://vine.co/v/ea0OwvPTx9l                                                                                                                                                                                                                                      2\n",
       "https://twitter.com/dog_rates/status/844704788403113984/photo/1                                                                                                                                                                                                    2\n",
       "https://twitter.com/dog_rates/status/667138269671505920/photo/1                                                                                                                                                                                                    2\n",
       "https://twitter.com/dog_rates/status/718631497683582976/photo/1                                                                                                                                                                                                    2\n",
       "https://twitter.com/dog_rates/status/753375668877008896/photo/1                                                                                                                                                                                                    2\n",
       "https://twitter.com/dog_rates/status/791406955684368384/photo/1,https://twitter.com/dog_rates/status/791406955684368384/photo/1,https://twitter.com/dog_rates/status/791406955684368384/photo/1,https://twitter.com/dog_rates/status/791406955684368384/photo/1    2\n",
       "https://twitter.com/dog_rates/status/666104133288665088/photo/1                                                                                                                                                                                                    2\n",
       "https://twitter.com/dog_rates/status/820749716845686786/photo/1,https://twitter.com/dog_rates/status/820749716845686786/photo/1                                                                                                                                    2\n",
       "https://twitter.com/dog_rates/status/667182792070062081/photo/1                                                                                                                                                                                                    2\n",
       "https://twitter.com/dog_rates/status/833124694597443584/photo/1,https://twitter.com/dog_rates/status/833124694597443584/photo/1,https://twitter.com/dog_rates/status/833124694597443584/photo/1                                                                    2\n",
       "https://twitter.com/dog_rates/status/819227688460238848/photo/1                                                                                                                                                                                                    2\n",
       "https://twitter.com/dog_rates/status/842163532590374912/photo/1,https://twitter.com/dog_rates/status/842163532590374912/photo/1                                                                                                                                    2\n",
       "https://twitter.com/dog_rates/status/859196978902773760/video/1                                                                                                                                                                                                    2\n",
       "                                                                                                                                                                                                                                                                  ..\n",
       "https://twitter.com/dog_rates/status/817536400337801217/photo/1,https://twitter.com/dog_rates/status/817536400337801217/photo/1,https://twitter.com/dog_rates/status/817536400337801217/photo/1,https://twitter.com/dog_rates/status/817536400337801217/photo/1    1\n",
       "https://twitter.com/dog_rates/status/858843525470990336/photo/1                                                                                                                                                                                                    1\n",
       "https://twitter.com/dog_rates/status/888917238123831296/photo/1                                                                                                                                                                                                    1\n",
       "https://twitter.com/dog_rates/status/884162670584377345/photo/1                                                                                                                                                                                                    1\n",
       "https://twitter.com/dog_rates/status/701214700881756160/photo/1                                                                                                                                                                                                    1\n",
       "https://twitter.com/dog_rates/status/826848821049180160/photo/1,https://twitter.com/dog_rates/status/826848821049180160/photo/1,https://twitter.com/dog_rates/status/826848821049180160/photo/1,https://twitter.com/dog_rates/status/826848821049180160/photo/1    1\n",
       "https://twitter.com/strange_animals/status/672108316018024452                                                                                                                                                                                                      1\n",
       "https://twitter.com/dog_rates/status/765222098633691136/photo/1,https://twitter.com/dog_rates/status/765222098633691136/photo/1                                                                                                                                    1\n",
       "https://twitter.com/dog_rates/status/739485634323156992/photo/1,https://twitter.com/dog_rates/status/739485634323156992/photo/1                                                                                                                                    1\n",
       "https://twitter.com/dog_rates/status/671134062904504320/photo/1                                                                                                                                                                                                    1\n",
       "https://twitter.com/dog_rates/status/831315979191906304/photo/1,https://twitter.com/dog_rates/status/831315979191906304/photo/1,https://twitter.com/dog_rates/status/831315979191906304/photo/1,https://twitter.com/dog_rates/status/831315979191906304/photo/1    1\n",
       "https://twitter.com/dog_rates/status/669567591774625800/photo/1                                                                                                                                                                                                    1\n",
       "https://twitter.com/dog_rates/status/744234799360020481/video/1                                                                                                                                                                                                    1\n",
       "https://twitter.com/dog_rates/status/689977555533848577/photo/1                                                                                                                                                                                                    1\n",
       "https://twitter.com/dog_rates/status/778383385161035776/photo/1                                                                                                                                                                                                    1\n",
       "https://twitter.com/dog_rates/status/865718153858494464/photo/1                                                                                                                                                                                                    1\n",
       "https://twitter.com/dog_rates/status/798209839306514432/photo/1                                                                                                                                                                                                    1\n",
       "https://twitter.com/dog_rates/status/758474966123810816/photo/1                                                                                                                                                                                                    1\n",
       "https://twitter.com/dog_rates/status/719551379208073216/photo/1                                                                                                                                                                                                    1\n",
       "https://twitter.com/dog_rates/status/672594978741354496/photo/1                                                                                                                                                                                                    1\n",
       "https://twitter.com/dog_rates/status/683030066213818368/photo/1                                                                                                                                                                                                    1\n",
       "https://twitter.com/dog_rates/status/689143371370250240/photo/1                                                                                                                                                                                                    1\n",
       "https://vine.co/v/i5ETazP5hrm                                                                                                                                                                                                                                      1\n",
       "https://twitter.com/king5seattle/status/796123679771897856                                                                                                                                                                                                         1\n",
       "https://twitter.com/dog_rates/status/670433248821026816/photo/1                                                                                                                                                                                                    1\n",
       "https://twitter.com/dog_rates/status/673709992831262724/photo/1                                                                                                                                                                                                    1\n",
       "https://twitter.com/dog_rates/status/777189768882946048/photo/1,https://twitter.com/dog_rates/status/777189768882946048/photo/1                                                                                                                                    1\n",
       "https://twitter.com/dog_rates/status/813096984823349248/photo/1                                                                                                                                                                                                    1\n",
       "https://twitter.com/dog_rates/status/793962221541933056/photo/1,https://twitter.com/dog_rates/status/793962221541933056/photo/1                                                                                                                                    1\n",
       "https://twitter.com/dog_rates/status/790946055508652032/photo/1,https://twitter.com/dog_rates/status/790946055508652032/photo/1                                                                                                                                    1\n",
       "Name: expanded_urls, Length: 2218, dtype: int64"
      ]
     },
     "execution_count": 9,
     "metadata": {},
     "output_type": "execute_result"
    }
   ],
   "source": [
    "# 根据expanded_urls检查tweets是否有重复值（网址应该是唯一的）\n",
    "df1_twitter['expanded_urls'].value_counts()"
   ]
  },
  {
   "cell_type": "code",
   "execution_count": 10,
   "metadata": {},
   "outputs": [
    {
     "name": "stdout",
     "output_type": "stream",
     "text": [
      "<class 'pandas.core.frame.DataFrame'>\n",
      "RangeIndex: 2075 entries, 0 to 2074\n",
      "Data columns (total 12 columns):\n",
      "tweet_id    2075 non-null int64\n",
      "jpg_url     2075 non-null object\n",
      "img_num     2075 non-null int64\n",
      "p1          2075 non-null object\n",
      "p1_conf     2075 non-null float64\n",
      "p1_dog      2075 non-null bool\n",
      "p2          2075 non-null object\n",
      "p2_conf     2075 non-null float64\n",
      "p2_dog      2075 non-null bool\n",
      "p3          2075 non-null object\n",
      "p3_conf     2075 non-null float64\n",
      "p3_dog      2075 non-null bool\n",
      "dtypes: bool(3), float64(3), int64(2), object(4)\n",
      "memory usage: 152.1+ KB\n"
     ]
    }
   ],
   "source": [
    "df2_pred.info()"
   ]
  },
  {
   "cell_type": "code",
   "execution_count": 11,
   "metadata": {},
   "outputs": [
    {
     "data": {
      "text/html": [
       "<div>\n",
       "<style scoped>\n",
       "    .dataframe tbody tr th:only-of-type {\n",
       "        vertical-align: middle;\n",
       "    }\n",
       "\n",
       "    .dataframe tbody tr th {\n",
       "        vertical-align: top;\n",
       "    }\n",
       "\n",
       "    .dataframe thead th {\n",
       "        text-align: right;\n",
       "    }\n",
       "</style>\n",
       "<table border=\"1\" class=\"dataframe\">\n",
       "  <thead>\n",
       "    <tr style=\"text-align: right;\">\n",
       "      <th></th>\n",
       "      <th>tweet_id</th>\n",
       "      <th>jpg_url</th>\n",
       "      <th>img_num</th>\n",
       "      <th>p1</th>\n",
       "      <th>p1_conf</th>\n",
       "      <th>p1_dog</th>\n",
       "      <th>p2</th>\n",
       "      <th>p2_conf</th>\n",
       "      <th>p2_dog</th>\n",
       "      <th>p3</th>\n",
       "      <th>p3_conf</th>\n",
       "      <th>p3_dog</th>\n",
       "    </tr>\n",
       "  </thead>\n",
       "  <tbody>\n",
       "    <tr>\n",
       "      <th>1699</th>\n",
       "      <td>816829038950027264</td>\n",
       "      <td>https://pbs.twimg.com/media/CvoBPWRWgAA4het.jpg</td>\n",
       "      <td>1</td>\n",
       "      <td>dishwasher</td>\n",
       "      <td>0.700466</td>\n",
       "      <td>False</td>\n",
       "      <td>golden_retriever</td>\n",
       "      <td>0.245773</td>\n",
       "      <td>True</td>\n",
       "      <td>chow</td>\n",
       "      <td>0.039012</td>\n",
       "      <td>True</td>\n",
       "    </tr>\n",
       "    <tr>\n",
       "      <th>415</th>\n",
       "      <td>674014384960745472</td>\n",
       "      <td>https://pbs.twimg.com/media/CVqUgTIUAAUA8Jr.jpg</td>\n",
       "      <td>1</td>\n",
       "      <td>Pembroke</td>\n",
       "      <td>0.742320</td>\n",
       "      <td>True</td>\n",
       "      <td>Cardigan</td>\n",
       "      <td>0.084937</td>\n",
       "      <td>True</td>\n",
       "      <td>Eskimo_dog</td>\n",
       "      <td>0.068321</td>\n",
       "      <td>True</td>\n",
       "    </tr>\n",
       "    <tr>\n",
       "      <th>1307</th>\n",
       "      <td>753420520834629632</td>\n",
       "      <td>https://pbs.twimg.com/ext_tw_video_thumb/75342...</td>\n",
       "      <td>1</td>\n",
       "      <td>balloon</td>\n",
       "      <td>0.267961</td>\n",
       "      <td>False</td>\n",
       "      <td>lakeside</td>\n",
       "      <td>0.085764</td>\n",
       "      <td>False</td>\n",
       "      <td>rapeseed</td>\n",
       "      <td>0.040809</td>\n",
       "      <td>False</td>\n",
       "    </tr>\n",
       "    <tr>\n",
       "      <th>186</th>\n",
       "      <td>669363888236994561</td>\n",
       "      <td>https://pbs.twimg.com/media/CUoO1TLWsAA0Z3w.jpg</td>\n",
       "      <td>1</td>\n",
       "      <td>golden_retriever</td>\n",
       "      <td>0.539004</td>\n",
       "      <td>True</td>\n",
       "      <td>Irish_setter</td>\n",
       "      <td>0.406550</td>\n",
       "      <td>True</td>\n",
       "      <td>cocker_spaniel</td>\n",
       "      <td>0.041484</td>\n",
       "      <td>True</td>\n",
       "    </tr>\n",
       "    <tr>\n",
       "      <th>7</th>\n",
       "      <td>666055525042405380</td>\n",
       "      <td>https://pbs.twimg.com/media/CT5N9tpXIAAifs1.jpg</td>\n",
       "      <td>1</td>\n",
       "      <td>chow</td>\n",
       "      <td>0.692517</td>\n",
       "      <td>True</td>\n",
       "      <td>Tibetan_mastiff</td>\n",
       "      <td>0.058279</td>\n",
       "      <td>True</td>\n",
       "      <td>fur_coat</td>\n",
       "      <td>0.054449</td>\n",
       "      <td>False</td>\n",
       "    </tr>\n",
       "  </tbody>\n",
       "</table>\n",
       "</div>"
      ],
      "text/plain": [
       "                tweet_id                                            jpg_url  \\\n",
       "1699  816829038950027264    https://pbs.twimg.com/media/CvoBPWRWgAA4het.jpg   \n",
       "415   674014384960745472    https://pbs.twimg.com/media/CVqUgTIUAAUA8Jr.jpg   \n",
       "1307  753420520834629632  https://pbs.twimg.com/ext_tw_video_thumb/75342...   \n",
       "186   669363888236994561    https://pbs.twimg.com/media/CUoO1TLWsAA0Z3w.jpg   \n",
       "7     666055525042405380    https://pbs.twimg.com/media/CT5N9tpXIAAifs1.jpg   \n",
       "\n",
       "      img_num                p1   p1_conf  p1_dog                p2   p2_conf  \\\n",
       "1699        1        dishwasher  0.700466   False  golden_retriever  0.245773   \n",
       "415         1          Pembroke  0.742320    True          Cardigan  0.084937   \n",
       "1307        1           balloon  0.267961   False          lakeside  0.085764   \n",
       "186         1  golden_retriever  0.539004    True      Irish_setter  0.406550   \n",
       "7           1              chow  0.692517    True   Tibetan_mastiff  0.058279   \n",
       "\n",
       "      p2_dog              p3   p3_conf  p3_dog  \n",
       "1699    True            chow  0.039012    True  \n",
       "415     True      Eskimo_dog  0.068321    True  \n",
       "1307   False        rapeseed  0.040809   False  \n",
       "186     True  cocker_spaniel  0.041484    True  \n",
       "7       True        fur_coat  0.054449   False  "
      ]
     },
     "execution_count": 11,
     "metadata": {},
     "output_type": "execute_result"
    }
   ],
   "source": [
    "df2_pred.sample(5)"
   ]
  },
  {
   "cell_type": "code",
   "execution_count": 12,
   "metadata": {},
   "outputs": [
    {
     "name": "stdout",
     "output_type": "stream",
     "text": [
      "<class 'pandas.core.frame.DataFrame'>\n",
      "RangeIndex: 2339 entries, 0 to 2338\n",
      "Data columns (total 6 columns):\n",
      "created_at        2339 non-null object\n",
      "favorite_count    2339 non-null int64\n",
      "favorited         2339 non-null bool\n",
      "retweet_count     2339 non-null int64\n",
      "retweeted         2339 non-null bool\n",
      "tweet_id          2339 non-null int64\n",
      "dtypes: bool(2), int64(3), object(1)\n",
      "memory usage: 77.7+ KB\n"
     ]
    }
   ],
   "source": [
    "df3_added.info()"
   ]
  },
  {
   "cell_type": "code",
   "execution_count": 13,
   "metadata": {},
   "outputs": [
    {
     "data": {
      "text/html": [
       "<div>\n",
       "<style scoped>\n",
       "    .dataframe tbody tr th:only-of-type {\n",
       "        vertical-align: middle;\n",
       "    }\n",
       "\n",
       "    .dataframe tbody tr th {\n",
       "        vertical-align: top;\n",
       "    }\n",
       "\n",
       "    .dataframe thead th {\n",
       "        text-align: right;\n",
       "    }\n",
       "</style>\n",
       "<table border=\"1\" class=\"dataframe\">\n",
       "  <thead>\n",
       "    <tr style=\"text-align: right;\">\n",
       "      <th></th>\n",
       "      <th>created_at</th>\n",
       "      <th>favorite_count</th>\n",
       "      <th>favorited</th>\n",
       "      <th>retweet_count</th>\n",
       "      <th>retweeted</th>\n",
       "      <th>tweet_id</th>\n",
       "    </tr>\n",
       "  </thead>\n",
       "  <tbody>\n",
       "    <tr>\n",
       "      <th>1568</th>\n",
       "      <td>Wed Jan 13 02:17:20 +0000 2016</td>\n",
       "      <td>2358</td>\n",
       "      <td>False</td>\n",
       "      <td>648</td>\n",
       "      <td>False</td>\n",
       "      <td>687096057537363968</td>\n",
       "    </tr>\n",
       "    <tr>\n",
       "      <th>1100</th>\n",
       "      <td>Wed May 18 00:14:46 +0000 2016</td>\n",
       "      <td>3695</td>\n",
       "      <td>False</td>\n",
       "      <td>944</td>\n",
       "      <td>False</td>\n",
       "      <td>732726085725589504</td>\n",
       "    </tr>\n",
       "    <tr>\n",
       "      <th>1397</th>\n",
       "      <td>Sun Feb 14 16:33:40 +0000 2016</td>\n",
       "      <td>2657</td>\n",
       "      <td>False</td>\n",
       "      <td>663</td>\n",
       "      <td>False</td>\n",
       "      <td>698907974262222848</td>\n",
       "    </tr>\n",
       "    <tr>\n",
       "      <th>716</th>\n",
       "      <td>Sat Oct 01 00:58:26 +0000 2016</td>\n",
       "      <td>0</td>\n",
       "      <td>False</td>\n",
       "      <td>6835</td>\n",
       "      <td>False</td>\n",
       "      <td>782021823840026624</td>\n",
       "    </tr>\n",
       "    <tr>\n",
       "      <th>706</th>\n",
       "      <td>Wed Oct 05 00:40:09 +0000 2016</td>\n",
       "      <td>9036</td>\n",
       "      <td>False</td>\n",
       "      <td>2466</td>\n",
       "      <td>False</td>\n",
       "      <td>783466772167098368</td>\n",
       "    </tr>\n",
       "  </tbody>\n",
       "</table>\n",
       "</div>"
      ],
      "text/plain": [
       "                          created_at  favorite_count  favorited  \\\n",
       "1568  Wed Jan 13 02:17:20 +0000 2016            2358      False   \n",
       "1100  Wed May 18 00:14:46 +0000 2016            3695      False   \n",
       "1397  Sun Feb 14 16:33:40 +0000 2016            2657      False   \n",
       "716   Sat Oct 01 00:58:26 +0000 2016               0      False   \n",
       "706   Wed Oct 05 00:40:09 +0000 2016            9036      False   \n",
       "\n",
       "      retweet_count  retweeted            tweet_id  \n",
       "1568            648      False  687096057537363968  \n",
       "1100            944      False  732726085725589504  \n",
       "1397            663      False  698907974262222848  \n",
       "716            6835      False  782021823840026624  \n",
       "706            2466      False  783466772167098368  "
      ]
     },
     "execution_count": 13,
     "metadata": {},
     "output_type": "execute_result"
    }
   ],
   "source": [
    "df3_added.sample(5)"
   ]
  },
  {
   "cell_type": "markdown",
   "metadata": {},
   "source": [
    "###   评估结果\n",
    "#### a  质量\n",
    "##### `df1_twitter` 表格\n",
    "- tweet_id数据类型应该是字符串型\n",
    "- timestamp数据类型应该是datetime, timestamp列‘+0000’多余\n",
    "- expanded_urls有重复值\n",
    "- in_reply_to_status_id等列缺失数据\n",
    "- name列中存在一些不规范的记录，如a,an,the\n",
    "\n",
    "##### `df2_pred` 表格\n",
    "- p1,p2,p3的数据类型应为category\n",
    "\n",
    "##### `df3_added` 表格\n",
    "- created_at列的数据类型应为datetime, 要与df1_twitter中timestamp格式一致\n",
    "- 只需要tweet_id,retweet_count,favorite_count数据，其余为多余的\n",
    "\n",
    "#### b  整洁度\n",
    "- df1_twitter表格中，狗狗的不同地位 (stage): doggo, pupper, puppo, 和 floof(er) 应作为一个变量\n",
    "- timestamp中日期和时间应该分成两列\n",
    "\n",
    "\n",
    "## 3   清理"
   ]
  },
  {
   "cell_type": "code",
   "execution_count": 14,
   "metadata": {},
   "outputs": [],
   "source": [
    "# 备份三个数据集\n",
    "df1_twitter_copy=df1_twitter.copy()\n",
    "df2_pred_copy=df2_pred.copy()\n",
    "df3_added_copy=df3_added.copy()"
   ]
  },
  {
   "cell_type": "markdown",
   "metadata": {},
   "source": [
    "#### 问题描述一\n",
    "##### 定义\n",
    "将数据集中的数据改为合适的数据类型，例如tweet_id的数据类型更改为字符串型"
   ]
  },
  {
   "cell_type": "code",
   "execution_count": 15,
   "metadata": {},
   "outputs": [],
   "source": [
    "# 解决问题一的代码\n",
    "df1_twitter_copy.tweet_id=df1_twitter_copy.tweet_id.astype(str)\n",
    "df2_pred_copy.tweet_id=df2_pred_copy.tweet_id.astype(str)\n",
    "df3_added_copy.tweet_id=df3_added_copy.tweet_id.astype(str)\n",
    "df1_twitter_copy.timestamp=pd.to_datetime(df1_twitter_copy.timestamp)"
   ]
  },
  {
   "cell_type": "markdown",
   "metadata": {},
   "source": [
    "##### 测试"
   ]
  },
  {
   "cell_type": "code",
   "execution_count": 16,
   "metadata": {
    "scrolled": true
   },
   "outputs": [
    {
     "name": "stdout",
     "output_type": "stream",
     "text": [
      "<class 'pandas.core.frame.DataFrame'>\n",
      "RangeIndex: 2356 entries, 0 to 2355\n",
      "Data columns (total 17 columns):\n",
      "tweet_id                      2356 non-null object\n",
      "in_reply_to_status_id         78 non-null float64\n",
      "in_reply_to_user_id           78 non-null float64\n",
      "timestamp                     2356 non-null datetime64[ns, UTC]\n",
      "source                        2356 non-null object\n",
      "text                          2356 non-null object\n",
      "retweeted_status_id           181 non-null float64\n",
      "retweeted_status_user_id      181 non-null float64\n",
      "retweeted_status_timestamp    181 non-null object\n",
      "expanded_urls                 2297 non-null object\n",
      "rating_numerator              2356 non-null int64\n",
      "rating_denominator            2356 non-null int64\n",
      "name                          2356 non-null object\n",
      "doggo                         2356 non-null object\n",
      "floofer                       2356 non-null object\n",
      "pupper                        2356 non-null object\n",
      "puppo                         2356 non-null object\n",
      "dtypes: datetime64[ns, UTC](1), float64(4), int64(2), object(10)\n",
      "memory usage: 313.0+ KB\n"
     ]
    }
   ],
   "source": [
    "# 测试问题一是否正确清理完成\n",
    "df1_twitter_copy.info()"
   ]
  },
  {
   "cell_type": "markdown",
   "metadata": {},
   "source": [
    "#### 问题描述二\n",
    "##### 定义\n",
    "将df1_twitter的 name列中不规范的记录，a,an,the替换成None"
   ]
  },
  {
   "cell_type": "code",
   "execution_count": 17,
   "metadata": {},
   "outputs": [],
   "source": [
    "# 解决问题二的代码\n",
    "df1_twitter_copy.name=df1_twitter_copy.name.replace(['a','an','the'],'None')"
   ]
  },
  {
   "cell_type": "markdown",
   "metadata": {},
   "source": [
    "##### 测试"
   ]
  },
  {
   "cell_type": "code",
   "execution_count": 18,
   "metadata": {},
   "outputs": [
    {
     "data": {
      "text/plain": [
       "None          815\n",
       "Charlie        12\n",
       "Lucy           11\n",
       "Oliver         11\n",
       "Cooper         11\n",
       "Tucker         10\n",
       "Penny          10\n",
       "Lola           10\n",
       "Winston         9\n",
       "Bo              9\n",
       "Sadie           8\n",
       "Toby            7\n",
       "Daisy           7\n",
       "Bailey          7\n",
       "Buddy           7\n",
       "Bella           6\n",
       "Leo             6\n",
       "Rusty           6\n",
       "Milo            6\n",
       "Jack            6\n",
       "Jax             6\n",
       "Dave            6\n",
       "Oscar           6\n",
       "Stanley         6\n",
       "Koda            6\n",
       "Scout           6\n",
       "Bentley         5\n",
       "Oakley          5\n",
       "Larry           5\n",
       "Gus             5\n",
       "             ... \n",
       "Livvie          1\n",
       "Major           1\n",
       "Kirk            1\n",
       "Zeus            1\n",
       "Mimosa          1\n",
       "Pete            1\n",
       "Teddy           1\n",
       "Tom             1\n",
       "Kobe            1\n",
       "Tuco            1\n",
       "Binky           1\n",
       "Pip             1\n",
       "Chevy           1\n",
       "Laika           1\n",
       "Milky           1\n",
       "Dot             1\n",
       "Creg            1\n",
       "Obie            1\n",
       "Derby           1\n",
       "Colin           1\n",
       "Lucia           1\n",
       "Rontu           1\n",
       "Stefan          1\n",
       "his             1\n",
       "Alf             1\n",
       "Brockly         1\n",
       "Joey            1\n",
       "Coleman         1\n",
       "Christoper      1\n",
       "Grizz           1\n",
       "Name: name, Length: 954, dtype: int64"
      ]
     },
     "execution_count": 18,
     "metadata": {},
     "output_type": "execute_result"
    }
   ],
   "source": [
    "# 测试问题二是否正确清理完成\n",
    "df1_twitter_copy['name'].value_counts()"
   ]
  },
  {
   "cell_type": "markdown",
   "metadata": {},
   "source": [
    "#### 问题描述三\n",
    "##### 定义\n",
    "在df1_twitter数据集中，从timestamp列分别提取出日期和时间，再删除timestamp列"
   ]
  },
  {
   "cell_type": "code",
   "execution_count": 19,
   "metadata": {},
   "outputs": [],
   "source": [
    "# 解决问题三的代码\n",
    "df1_twitter_copy['date']=pd.DatetimeIndex(df1_twitter_copy.timestamp).date\n",
    "df1_twitter_copy['time']=pd.DatetimeIndex(df1_twitter_copy.timestamp).time\n",
    "df1_twitter_copy=df1_twitter_copy.drop(columns='timestamp')"
   ]
  },
  {
   "cell_type": "markdown",
   "metadata": {},
   "source": [
    "##### 测试"
   ]
  },
  {
   "cell_type": "code",
   "execution_count": 20,
   "metadata": {},
   "outputs": [
    {
     "name": "stdout",
     "output_type": "stream",
     "text": [
      "<class 'pandas.core.frame.DataFrame'>\n",
      "RangeIndex: 2356 entries, 0 to 2355\n",
      "Data columns (total 18 columns):\n",
      "tweet_id                      2356 non-null object\n",
      "in_reply_to_status_id         78 non-null float64\n",
      "in_reply_to_user_id           78 non-null float64\n",
      "source                        2356 non-null object\n",
      "text                          2356 non-null object\n",
      "retweeted_status_id           181 non-null float64\n",
      "retweeted_status_user_id      181 non-null float64\n",
      "retweeted_status_timestamp    181 non-null object\n",
      "expanded_urls                 2297 non-null object\n",
      "rating_numerator              2356 non-null int64\n",
      "rating_denominator            2356 non-null int64\n",
      "name                          2356 non-null object\n",
      "doggo                         2356 non-null object\n",
      "floofer                       2356 non-null object\n",
      "pupper                        2356 non-null object\n",
      "puppo                         2356 non-null object\n",
      "date                          2356 non-null object\n",
      "time                          2356 non-null object\n",
      "dtypes: float64(4), int64(2), object(12)\n",
      "memory usage: 331.4+ KB\n"
     ]
    }
   ],
   "source": [
    "# 测试问题三是否正确清理完成\n",
    "df1_twitter_copy.info()"
   ]
  },
  {
   "cell_type": "markdown",
   "metadata": {},
   "source": [
    "#### 问题描述四\n",
    "##### 定义\n",
    "在df1_twitter数据集中，删除重复的expanded_urls数据"
   ]
  },
  {
   "cell_type": "code",
   "execution_count": 21,
   "metadata": {},
   "outputs": [],
   "source": [
    "# 解决问题四的代码\n",
    "df1_twitter_copy=df1_twitter_copy.drop_duplicates(subset='expanded_urls',keep='first')"
   ]
  },
  {
   "cell_type": "markdown",
   "metadata": {},
   "source": [
    "##### 测试"
   ]
  },
  {
   "cell_type": "code",
   "execution_count": 22,
   "metadata": {},
   "outputs": [
    {
     "data": {
      "text/html": [
       "<div>\n",
       "<style scoped>\n",
       "    .dataframe tbody tr th:only-of-type {\n",
       "        vertical-align: middle;\n",
       "    }\n",
       "\n",
       "    .dataframe tbody tr th {\n",
       "        vertical-align: top;\n",
       "    }\n",
       "\n",
       "    .dataframe thead th {\n",
       "        text-align: right;\n",
       "    }\n",
       "</style>\n",
       "<table border=\"1\" class=\"dataframe\">\n",
       "  <thead>\n",
       "    <tr style=\"text-align: right;\">\n",
       "      <th></th>\n",
       "      <th>tweet_id</th>\n",
       "      <th>in_reply_to_status_id</th>\n",
       "      <th>in_reply_to_user_id</th>\n",
       "      <th>source</th>\n",
       "      <th>text</th>\n",
       "      <th>retweeted_status_id</th>\n",
       "      <th>retweeted_status_user_id</th>\n",
       "      <th>retweeted_status_timestamp</th>\n",
       "      <th>expanded_urls</th>\n",
       "      <th>rating_numerator</th>\n",
       "      <th>rating_denominator</th>\n",
       "      <th>name</th>\n",
       "      <th>doggo</th>\n",
       "      <th>floofer</th>\n",
       "      <th>pupper</th>\n",
       "      <th>puppo</th>\n",
       "      <th>date</th>\n",
       "      <th>time</th>\n",
       "    </tr>\n",
       "  </thead>\n",
       "  <tbody>\n",
       "  </tbody>\n",
       "</table>\n",
       "</div>"
      ],
      "text/plain": [
       "Empty DataFrame\n",
       "Columns: [tweet_id, in_reply_to_status_id, in_reply_to_user_id, source, text, retweeted_status_id, retweeted_status_user_id, retweeted_status_timestamp, expanded_urls, rating_numerator, rating_denominator, name, doggo, floofer, pupper, puppo, date, time]\n",
       "Index: []"
      ]
     },
     "execution_count": 22,
     "metadata": {},
     "output_type": "execute_result"
    }
   ],
   "source": [
    "# 测试问题四是否正确清理完成\n",
    "df1_twitter_copy[df1_twitter_copy.expanded_urls.duplicated()]"
   ]
  },
  {
   "cell_type": "markdown",
   "metadata": {},
   "source": [
    "#### 问题描述五\n",
    "##### 定义\n",
    "在df1_twitter数据集中，删除缺失数据过多的列\n",
    "in_reply_to_status_id, \n",
    "in_reply_to_user_id,\n",
    "retweeted_status_id,\n",
    "retweeted_status_user_id, \n",
    "retweeted_status_timestamp"
   ]
  },
  {
   "cell_type": "code",
   "execution_count": 23,
   "metadata": {},
   "outputs": [],
   "source": [
    "# 解决问题五的代码\n",
    "# df1_twitter_copy=df1_twitter.copy()\n",
    "df1_twitter_copy=df1_twitter_copy.drop(columns=['in_reply_to_status_id','in_reply_to_user_id','retweeted_status_id','retweeted_status_user_id','retweeted_status_timestamp'])"
   ]
  },
  {
   "cell_type": "markdown",
   "metadata": {},
   "source": [
    "##### 测试"
   ]
  },
  {
   "cell_type": "code",
   "execution_count": 24,
   "metadata": {},
   "outputs": [
    {
     "name": "stdout",
     "output_type": "stream",
     "text": [
      "<class 'pandas.core.frame.DataFrame'>\n",
      "Int64Index: 2219 entries, 0 to 2355\n",
      "Data columns (total 13 columns):\n",
      "tweet_id              2219 non-null object\n",
      "source                2219 non-null object\n",
      "text                  2219 non-null object\n",
      "expanded_urls         2218 non-null object\n",
      "rating_numerator      2219 non-null int64\n",
      "rating_denominator    2219 non-null int64\n",
      "name                  2219 non-null object\n",
      "doggo                 2219 non-null object\n",
      "floofer               2219 non-null object\n",
      "pupper                2219 non-null object\n",
      "puppo                 2219 non-null object\n",
      "date                  2219 non-null object\n",
      "time                  2219 non-null object\n",
      "dtypes: int64(2), object(11)\n",
      "memory usage: 242.7+ KB\n"
     ]
    }
   ],
   "source": [
    "# 测试问题五是否正确清理完成\n",
    "df1_twitter_copy.info()"
   ]
  },
  {
   "cell_type": "markdown",
   "metadata": {},
   "source": [
    "#### 问题描述六\n",
    "##### 定义\n",
    "将df2_pred表格中p1,p2,p3的数据类型更改为category"
   ]
  },
  {
   "cell_type": "code",
   "execution_count": 25,
   "metadata": {},
   "outputs": [],
   "source": [
    "# 解决问题六的代码\n",
    "df2_pred_copy.p1=df2_pred_copy.p1.astype('category')\n",
    "df2_pred_copy.p2=df2_pred_copy.p2.astype('category')\n",
    "df2_pred_copy.p3=df2_pred_copy.p3.astype('category')"
   ]
  },
  {
   "cell_type": "markdown",
   "metadata": {},
   "source": [
    "##### 测试"
   ]
  },
  {
   "cell_type": "code",
   "execution_count": 26,
   "metadata": {},
   "outputs": [
    {
     "name": "stdout",
     "output_type": "stream",
     "text": [
      "<class 'pandas.core.frame.DataFrame'>\n",
      "RangeIndex: 2075 entries, 0 to 2074\n",
      "Data columns (total 12 columns):\n",
      "tweet_id    2075 non-null object\n",
      "jpg_url     2075 non-null object\n",
      "img_num     2075 non-null int64\n",
      "p1          2075 non-null category\n",
      "p1_conf     2075 non-null float64\n",
      "p1_dog      2075 non-null bool\n",
      "p2          2075 non-null category\n",
      "p2_conf     2075 non-null float64\n",
      "p2_dog      2075 non-null bool\n",
      "p3          2075 non-null category\n",
      "p3_conf     2075 non-null float64\n",
      "p3_dog      2075 non-null bool\n",
      "dtypes: bool(3), category(3), float64(3), int64(1), object(2)\n",
      "memory usage: 174.9+ KB\n"
     ]
    }
   ],
   "source": [
    "# 测试问题六是否正确清理完成\n",
    "df2_pred_copy.info()"
   ]
  },
  {
   "cell_type": "markdown",
   "metadata": {},
   "source": [
    "#### 问题描述七\n",
    "##### 定义\n",
    "将df3_added表格created_at列的数据类型更改为datetime"
   ]
  },
  {
   "cell_type": "code",
   "execution_count": 27,
   "metadata": {},
   "outputs": [],
   "source": [
    "# 解决问题七的代码\n",
    "df3_added_copy.created_at=pd.to_datetime(df3_added_copy.created_at)"
   ]
  },
  {
   "cell_type": "markdown",
   "metadata": {},
   "source": [
    "##### 测试"
   ]
  },
  {
   "cell_type": "code",
   "execution_count": 28,
   "metadata": {},
   "outputs": [
    {
     "name": "stdout",
     "output_type": "stream",
     "text": [
      "<class 'pandas.core.frame.DataFrame'>\n",
      "RangeIndex: 2339 entries, 0 to 2338\n",
      "Data columns (total 6 columns):\n",
      "created_at        2339 non-null datetime64[ns, UTC]\n",
      "favorite_count    2339 non-null int64\n",
      "favorited         2339 non-null bool\n",
      "retweet_count     2339 non-null int64\n",
      "retweeted         2339 non-null bool\n",
      "tweet_id          2339 non-null object\n",
      "dtypes: bool(2), datetime64[ns, UTC](1), int64(2), object(1)\n",
      "memory usage: 77.7+ KB\n"
     ]
    }
   ],
   "source": [
    "# 测试问题七是否正确清理完成\n",
    "df3_added_copy.info()"
   ]
  },
  {
   "cell_type": "markdown",
   "metadata": {},
   "source": [
    "#### 问题描述八\n",
    "##### 定义\n",
    "在df3_added表格中,保留tweet_id,retweet_count,favorite_count列，删除多余的数据"
   ]
  },
  {
   "cell_type": "code",
   "execution_count": 29,
   "metadata": {},
   "outputs": [],
   "source": [
    "# 解决问题八的代码\n",
    "df3_added_copy=df3_added_copy[['tweet_id','retweet_count','favorite_count']]"
   ]
  },
  {
   "cell_type": "markdown",
   "metadata": {},
   "source": [
    "##### 测试"
   ]
  },
  {
   "cell_type": "code",
   "execution_count": 30,
   "metadata": {},
   "outputs": [
    {
     "name": "stdout",
     "output_type": "stream",
     "text": [
      "<class 'pandas.core.frame.DataFrame'>\n",
      "RangeIndex: 2339 entries, 0 to 2338\n",
      "Data columns (total 3 columns):\n",
      "tweet_id          2339 non-null object\n",
      "retweet_count     2339 non-null int64\n",
      "favorite_count    2339 non-null int64\n",
      "dtypes: int64(2), object(1)\n",
      "memory usage: 54.9+ KB\n"
     ]
    }
   ],
   "source": [
    "# 测试问题八是否正确清理完成\n",
    "df3_added_copy.info()"
   ]
  },
  {
   "cell_type": "markdown",
   "metadata": {},
   "source": [
    "#### 问题描述九\n",
    "##### 定义\n",
    "df1_twitter表格中，存在未记录doggo, pupper, puppo, 和 floof(er)以及重复记录的数据"
   ]
  },
  {
   "cell_type": "code",
   "execution_count": 31,
   "metadata": {},
   "outputs": [],
   "source": [
    "# 解决问题九的代码\n",
    "df1_twitter_copy['doggo'] = df1_twitter_copy['doggo'].replace('None', 0)\n",
    "df1_twitter_copy['doggo'] = df1_twitter_copy['doggo'].replace('doggo', 1)\n",
    "df1_twitter_copy['pupper'] = df1_twitter_copy['pupper'].replace('None', 0)\n",
    "df1_twitter_copy['pupper'] = df1_twitter_copy['pupper'].replace('pupper', 1)\n",
    "df1_twitter_copy['puppo'] = df1_twitter_copy['puppo'].replace('None', 0)\n",
    "df1_twitter_copy['puppo'] = df1_twitter_copy['puppo'].replace('puppo', 1)\n",
    "df1_twitter_copy['floofer'] = df1_twitter_copy['floofer'].replace('None', 0)\n",
    "df1_twitter_copy['floofer'] = df1_twitter_copy['floofer'].replace('floofer', 1)\n",
    "\n",
    "#删除有多个结果的数据\n",
    "df1_twitter_copy=df1_twitter_copy[~(df1_twitter_copy['doggo']+df1_twitter_copy['pupper']+df1_twitter_copy['puppo']+df1_twitter_copy['floofer']>1)]\n",
    "\n",
    "#筛选出未记录的数据\n",
    "df1_twitter_copy['None']=0\n",
    "df1_twitter_copy.loc[(df1_twitter_copy['doggo']+df1_twitter_copy['pupper']+df1_twitter_copy['puppo']+df1_twitter_copy['floofer']==0),'None']=1\n"
   ]
  },
  {
   "cell_type": "markdown",
   "metadata": {},
   "source": [
    "##### 测试"
   ]
  },
  {
   "cell_type": "code",
   "execution_count": 32,
   "metadata": {},
   "outputs": [
    {
     "data": {
      "text/plain": [
       "1    1863\n",
       "0     342\n",
       "Name: None, dtype: int64"
      ]
     },
     "execution_count": 32,
     "metadata": {},
     "output_type": "execute_result"
    }
   ],
   "source": [
    "# 测试问题九是否正确清理完成\n",
    "df1_twitter_copy['None'].value_counts()"
   ]
  },
  {
   "cell_type": "markdown",
   "metadata": {},
   "source": [
    "#### 问题描述十\n",
    "##### 定义\n",
    "在df1_twitter表格中，将doggo, pupper, puppo, 和 floof(er) 四列合并为一个变量stage"
   ]
  },
  {
   "cell_type": "code",
   "execution_count": 33,
   "metadata": {},
   "outputs": [],
   "source": [
    "# 解决问题十的代码\n",
    "df1_twitter_copy=pd.melt(df1_twitter_copy,id_vars=['tweet_id','source','text','expanded_urls','rating_numerator','rating_denominator','name','date','time'],var_name='stage',value_name='record')"
   ]
  },
  {
   "cell_type": "markdown",
   "metadata": {},
   "source": [
    "##### 测试"
   ]
  },
  {
   "cell_type": "code",
   "execution_count": 34,
   "metadata": {},
   "outputs": [
    {
     "name": "stdout",
     "output_type": "stream",
     "text": [
      "<class 'pandas.core.frame.DataFrame'>\n",
      "Int64Index: 2205 entries, 9 to 11024\n",
      "Data columns (total 10 columns):\n",
      "tweet_id              2205 non-null object\n",
      "source                2205 non-null object\n",
      "text                  2205 non-null object\n",
      "expanded_urls         2204 non-null object\n",
      "rating_numerator      2205 non-null int64\n",
      "rating_denominator    2205 non-null int64\n",
      "name                  2205 non-null object\n",
      "date                  2205 non-null object\n",
      "time                  2205 non-null object\n",
      "stage                 2205 non-null object\n",
      "dtypes: int64(2), object(8)\n",
      "memory usage: 189.5+ KB\n"
     ]
    }
   ],
   "source": [
    "# 测试问题十是否正确清理完成\n",
    "df1_twitter_copy=df1_twitter_copy[df1_twitter_copy['record']==1]\n",
    "df1_twitter_copy=df1_twitter_copy.drop(columns='record')\n",
    "df1_twitter_copy.info()"
   ]
  },
  {
   "cell_type": "markdown",
   "metadata": {},
   "source": [
    "### 存储清理后的主数据集"
   ]
  },
  {
   "cell_type": "code",
   "execution_count": 35,
   "metadata": {},
   "outputs": [
    {
     "name": "stdout",
     "output_type": "stream",
     "text": [
      "<class 'pandas.core.frame.DataFrame'>\n",
      "Int64Index: 1976 entries, 0 to 1975\n",
      "Data columns (total 23 columns):\n",
      "tweet_id              1976 non-null object\n",
      "source                1976 non-null object\n",
      "text                  1976 non-null object\n",
      "expanded_urls         1976 non-null object\n",
      "rating_numerator      1976 non-null int64\n",
      "rating_denominator    1976 non-null int64\n",
      "name                  1976 non-null object\n",
      "date                  1976 non-null object\n",
      "time                  1976 non-null object\n",
      "stage                 1976 non-null object\n",
      "jpg_url               1976 non-null object\n",
      "img_num               1976 non-null int64\n",
      "p1                    1976 non-null category\n",
      "p1_conf               1976 non-null float64\n",
      "p1_dog                1976 non-null bool\n",
      "p2                    1976 non-null category\n",
      "p2_conf               1976 non-null float64\n",
      "p2_dog                1976 non-null bool\n",
      "p3                    1976 non-null category\n",
      "p3_conf               1976 non-null float64\n",
      "p3_dog                1976 non-null bool\n",
      "retweet_count         1976 non-null int64\n",
      "favorite_count        1976 non-null int64\n",
      "dtypes: bool(3), category(3), float64(3), int64(5), object(9)\n",
      "memory usage: 354.5+ KB\n"
     ]
    }
   ],
   "source": [
    "#将清洗后的三个数据集合并成一个主数据集\n",
    "df_main=pd.merge(df1_twitter_copy,df2_pred_copy,on='tweet_id',how='inner')\n",
    "df_main=pd.merge(df_main,df3_added_copy,on='tweet_id',how='inner')\n",
    "df_main.info()"
   ]
  },
  {
   "cell_type": "code",
   "execution_count": 36,
   "metadata": {},
   "outputs": [
    {
     "data": {
      "text/html": [
       "<div>\n",
       "<style scoped>\n",
       "    .dataframe tbody tr th:only-of-type {\n",
       "        vertical-align: middle;\n",
       "    }\n",
       "\n",
       "    .dataframe tbody tr th {\n",
       "        vertical-align: top;\n",
       "    }\n",
       "\n",
       "    .dataframe thead th {\n",
       "        text-align: right;\n",
       "    }\n",
       "</style>\n",
       "<table border=\"1\" class=\"dataframe\">\n",
       "  <thead>\n",
       "    <tr style=\"text-align: right;\">\n",
       "      <th></th>\n",
       "      <th>tweet_id</th>\n",
       "      <th>source</th>\n",
       "      <th>text</th>\n",
       "      <th>expanded_urls</th>\n",
       "      <th>rating_numerator</th>\n",
       "      <th>rating_denominator</th>\n",
       "      <th>name</th>\n",
       "      <th>date</th>\n",
       "      <th>time</th>\n",
       "      <th>stage</th>\n",
       "      <th>...</th>\n",
       "      <th>p1_conf</th>\n",
       "      <th>p1_dog</th>\n",
       "      <th>p2</th>\n",
       "      <th>p2_conf</th>\n",
       "      <th>p2_dog</th>\n",
       "      <th>p3</th>\n",
       "      <th>p3_conf</th>\n",
       "      <th>p3_dog</th>\n",
       "      <th>retweet_count</th>\n",
       "      <th>favorite_count</th>\n",
       "    </tr>\n",
       "  </thead>\n",
       "  <tbody>\n",
       "    <tr>\n",
       "      <th>191</th>\n",
       "      <td>686683045143953408</td>\n",
       "      <td>&lt;a href=\"http://twitter.com/download/iphone\" r...</td>\n",
       "      <td>This is Mona. She's a Yarborough Splishnsplash...</td>\n",
       "      <td>https://twitter.com/dog_rates/status/686683045...</td>\n",
       "      <td>11</td>\n",
       "      <td>10</td>\n",
       "      <td>Mona</td>\n",
       "      <td>2016-01-11</td>\n",
       "      <td>22:56:10</td>\n",
       "      <td>pupper</td>\n",
       "      <td>...</td>\n",
       "      <td>0.100499</td>\n",
       "      <td>True</td>\n",
       "      <td>cocker_spaniel</td>\n",
       "      <td>0.080671</td>\n",
       "      <td>True</td>\n",
       "      <td>golden_retriever</td>\n",
       "      <td>0.079406</td>\n",
       "      <td>True</td>\n",
       "      <td>858</td>\n",
       "      <td>2949</td>\n",
       "    </tr>\n",
       "    <tr>\n",
       "      <th>60</th>\n",
       "      <td>724771698126512129</td>\n",
       "      <td>&lt;a href=\"http://twitter.com/download/iphone\" r...</td>\n",
       "      <td>Nothin better than a doggo and a sunset. 11/10...</td>\n",
       "      <td>https://twitter.com/dog_rates/status/724771698...</td>\n",
       "      <td>11</td>\n",
       "      <td>10</td>\n",
       "      <td>None</td>\n",
       "      <td>2016-04-26</td>\n",
       "      <td>01:26:53</td>\n",
       "      <td>doggo</td>\n",
       "      <td>...</td>\n",
       "      <td>0.835491</td>\n",
       "      <td>True</td>\n",
       "      <td>bluetick</td>\n",
       "      <td>0.058788</td>\n",
       "      <td>True</td>\n",
       "      <td>English_setter</td>\n",
       "      <td>0.037208</td>\n",
       "      <td>True</td>\n",
       "      <td>682</td>\n",
       "      <td>2475</td>\n",
       "    </tr>\n",
       "    <tr>\n",
       "      <th>1488</th>\n",
       "      <td>676897532954456065</td>\n",
       "      <td>&lt;a href=\"http://twitter.com/download/iphone\" r...</td>\n",
       "      <td>Exotic handheld dog here. Appears unathletic. ...</td>\n",
       "      <td>https://twitter.com/dog_rates/status/676897532...</td>\n",
       "      <td>5</td>\n",
       "      <td>10</td>\n",
       "      <td>None</td>\n",
       "      <td>2015-12-15</td>\n",
       "      <td>22:52:02</td>\n",
       "      <td>None</td>\n",
       "      <td>...</td>\n",
       "      <td>0.628255</td>\n",
       "      <td>False</td>\n",
       "      <td>guinea_pig</td>\n",
       "      <td>0.318646</td>\n",
       "      <td>False</td>\n",
       "      <td>macaque</td>\n",
       "      <td>0.013058</td>\n",
       "      <td>False</td>\n",
       "      <td>763</td>\n",
       "      <td>2344</td>\n",
       "    </tr>\n",
       "    <tr>\n",
       "      <th>40</th>\n",
       "      <td>786363235746385920</td>\n",
       "      <td>&lt;a href=\"http://twitter.com/download/iphone\" r...</td>\n",
       "      <td>This is Rizzo. He has many talents. A true ren...</td>\n",
       "      <td>https://twitter.com/dog_rates/status/786363235...</td>\n",
       "      <td>13</td>\n",
       "      <td>10</td>\n",
       "      <td>Rizzo</td>\n",
       "      <td>2016-10-13</td>\n",
       "      <td>00:29:39</td>\n",
       "      <td>doggo</td>\n",
       "      <td>...</td>\n",
       "      <td>0.929266</td>\n",
       "      <td>True</td>\n",
       "      <td>Labrador_retriever</td>\n",
       "      <td>0.062867</td>\n",
       "      <td>True</td>\n",
       "      <td>Saluki</td>\n",
       "      <td>0.002157</td>\n",
       "      <td>True</td>\n",
       "      <td>3844</td>\n",
       "      <td>11683</td>\n",
       "    </tr>\n",
       "    <tr>\n",
       "      <th>1551</th>\n",
       "      <td>674788554665512960</td>\n",
       "      <td>&lt;a href=\"http://twitter.com/download/iphone\" r...</td>\n",
       "      <td>Say hello to Maggie. She's a Western Septic Do...</td>\n",
       "      <td>https://twitter.com/dog_rates/status/674788554...</td>\n",
       "      <td>9</td>\n",
       "      <td>10</td>\n",
       "      <td>Maggie</td>\n",
       "      <td>2015-12-10</td>\n",
       "      <td>03:11:43</td>\n",
       "      <td>None</td>\n",
       "      <td>...</td>\n",
       "      <td>0.349561</td>\n",
       "      <td>True</td>\n",
       "      <td>toy_poodle</td>\n",
       "      <td>0.154711</td>\n",
       "      <td>True</td>\n",
       "      <td>Maltese_dog</td>\n",
       "      <td>0.134229</td>\n",
       "      <td>True</td>\n",
       "      <td>218</td>\n",
       "      <td>835</td>\n",
       "    </tr>\n",
       "  </tbody>\n",
       "</table>\n",
       "<p>5 rows × 23 columns</p>\n",
       "</div>"
      ],
      "text/plain": [
       "                tweet_id                                             source  \\\n",
       "191   686683045143953408  <a href=\"http://twitter.com/download/iphone\" r...   \n",
       "60    724771698126512129  <a href=\"http://twitter.com/download/iphone\" r...   \n",
       "1488  676897532954456065  <a href=\"http://twitter.com/download/iphone\" r...   \n",
       "40    786363235746385920  <a href=\"http://twitter.com/download/iphone\" r...   \n",
       "1551  674788554665512960  <a href=\"http://twitter.com/download/iphone\" r...   \n",
       "\n",
       "                                                   text  \\\n",
       "191   This is Mona. She's a Yarborough Splishnsplash...   \n",
       "60    Nothin better than a doggo and a sunset. 11/10...   \n",
       "1488  Exotic handheld dog here. Appears unathletic. ...   \n",
       "40    This is Rizzo. He has many talents. A true ren...   \n",
       "1551  Say hello to Maggie. She's a Western Septic Do...   \n",
       "\n",
       "                                          expanded_urls  rating_numerator  \\\n",
       "191   https://twitter.com/dog_rates/status/686683045...                11   \n",
       "60    https://twitter.com/dog_rates/status/724771698...                11   \n",
       "1488  https://twitter.com/dog_rates/status/676897532...                 5   \n",
       "40    https://twitter.com/dog_rates/status/786363235...                13   \n",
       "1551  https://twitter.com/dog_rates/status/674788554...                 9   \n",
       "\n",
       "      rating_denominator    name        date      time   stage  ...   p1_conf  \\\n",
       "191                   10    Mona  2016-01-11  22:56:10  pupper  ...  0.100499   \n",
       "60                    10    None  2016-04-26  01:26:53   doggo  ...  0.835491   \n",
       "1488                  10    None  2015-12-15  22:52:02    None  ...  0.628255   \n",
       "40                    10   Rizzo  2016-10-13  00:29:39   doggo  ...  0.929266   \n",
       "1551                  10  Maggie  2015-12-10  03:11:43    None  ...  0.349561   \n",
       "\n",
       "      p1_dog                  p2   p2_conf  p2_dog                p3  \\\n",
       "191     True      cocker_spaniel  0.080671    True  golden_retriever   \n",
       "60      True            bluetick  0.058788    True    English_setter   \n",
       "1488   False          guinea_pig  0.318646   False           macaque   \n",
       "40      True  Labrador_retriever  0.062867    True            Saluki   \n",
       "1551    True          toy_poodle  0.154711    True       Maltese_dog   \n",
       "\n",
       "       p3_conf  p3_dog retweet_count  favorite_count  \n",
       "191   0.079406    True           858            2949  \n",
       "60    0.037208    True           682            2475  \n",
       "1488  0.013058   False           763            2344  \n",
       "40    0.002157    True          3844           11683  \n",
       "1551  0.134229    True           218             835  \n",
       "\n",
       "[5 rows x 23 columns]"
      ]
     },
     "execution_count": 36,
     "metadata": {},
     "output_type": "execute_result"
    }
   ],
   "source": [
    "df_main.sample(5)"
   ]
  },
  {
   "cell_type": "code",
   "execution_count": 37,
   "metadata": {},
   "outputs": [],
   "source": [
    "#将主数据集存储为csv文件\n",
    "df_main.to_csv('p2_ly/data/twitter_archive_master.csv',index=False)"
   ]
  },
  {
   "cell_type": "markdown",
   "metadata": {},
   "source": [
    "## 4   可视化分析"
   ]
  },
  {
   "cell_type": "code",
   "execution_count": 38,
   "metadata": {},
   "outputs": [
    {
     "data": {
      "text/plain": [
       "Text(0.5, 1.0, 'Top10 popular dog types')"
      ]
     },
     "execution_count": 38,
     "metadata": {},
     "output_type": "execute_result"
    },
    {
     "data": {
      "image/png": "[encoded data removed]",
      "text/plain": [
       "<Figure size 432x288 with 1 Axes>"
      ]
     },
     "metadata": {
      "needs_background": "light"
     },
     "output_type": "display_data"
    }
   ],
   "source": [
    "#1 大家最喜欢的狗的品种\n",
    "\n",
    "# 筛选出第一类预测结果是dog 且可信度 >80%的数据\n",
    "types_dog=df_main[(df_main.p1_dog==True)&(df_main.p1_conf>0.8)].p1.value_counts()\n",
    "plt.bar(types_dog[0:10].index,types_dog[0:10])\n",
    "plt.xticks(rotation='vertical')\n",
    "plt.xlabel('Dog_type')\n",
    "plt.ylabel('Number')\n",
    "plt.title('Top10 popular dog types')"
   ]
  },
  {
   "cell_type": "markdown",
   "metadata": {},
   "source": [
    "#### 结论1：最受大家喜爱的狗前三名分别是金毛，柯基和拉布拉多"
   ]
  },
  {
   "cell_type": "code",
   "execution_count": 39,
   "metadata": {},
   "outputs": [
    {
     "data": {
      "text/plain": [
       "Text(0.5, 1.0, 'Top10 popular dog names')"
      ]
     },
     "execution_count": 39,
     "metadata": {},
     "output_type": "execute_result"
    },
    {
     "data": {
      "image/png": "[encoded data removed]",
      "text/plain": [
       "<Figure size 432x288 with 1 Axes>"
      ]
     },
     "metadata": {
      "needs_background": "light"
     },
     "output_type": "display_data"
    }
   ],
   "source": [
    "#2 最常用的狗的名字\n",
    "\n",
    "Name=df_main.name.value_counts()\n",
    "plt.bar(Name[1:11].index,Name[1:11])\n",
    "plt.xticks(rotation='vertical')\n",
    "plt.xlabel('Dog_name')\n",
    "plt.ylabel('Number')\n",
    "plt.title('Top10 popular dog names')"
   ]
  },
  {
   "cell_type": "markdown",
   "metadata": {},
   "source": [
    "#### 结论2：最常用的名字前三是Lucy，Penny和Tucker"
   ]
  },
  {
   "cell_type": "code",
   "execution_count": 40,
   "metadata": {},
   "outputs": [
    {
     "data": {
      "text/plain": [
       "<matplotlib.collections.PathCollection at 0x1ec0466cda0>"
      ]
     },
     "execution_count": 40,
     "metadata": {},
     "output_type": "execute_result"
    },
    {
     "data": {
      "image/png": "[encoded data removed]",
      "text/plain": [
       "<Figure size 720x360 with 1 Axes>"
      ]
     },
     "metadata": {
      "needs_background": "light"
     },
     "output_type": "display_data"
    }
   ],
   "source": [
    "#3 大狗和小狗的受欢迎程度\n",
    "\n",
    "df_part=df_main[df_main['stage']!='None']\n",
    "plt.figure(figsize=(10,5))\n",
    "plt.scatter(df_part['stage'],df_part['favorite_count'],s=df_part['retweet_count']/1000)"
   ]
  },
  {
   "cell_type": "markdown",
   "metadata": {},
   "source": [
    "#### 结论3：从转发数及点赞数来看，大狗doggo更受欢迎"
   ]
  }
 ],
 "metadata": {
  "kernelspec": {
   "display_name": "Python 3",
   "language": "python",
   "name": "python3"
  },
  "language_info": {
   "codemirror_mode": {
    "name": "ipython",
    "version": 3
   },
   "file_extension": ".py",
   "mimetype": "text/x-python",
   "name": "python",
   "nbconvert_exporter": "python",
   "pygments_lexer": "ipython3",
   "version": "3.7.3"
  }
 },
 "nbformat": 4,
 "nbformat_minor": 2
}
